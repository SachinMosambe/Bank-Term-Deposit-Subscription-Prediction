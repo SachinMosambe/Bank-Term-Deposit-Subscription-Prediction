{
 "cells": [
  {
   "cell_type": "code",
   "execution_count": 1,
   "id": "f6997d84",
   "metadata": {},
   "outputs": [],
   "source": [
    "\n",
    "import os\n",
    "import pandas as pd\n",
    "import numpy as np\n",
    "import matplotlib.pyplot as plt\n",
    "import seaborn as sns\n",
    "import warnings\n",
    "warnings.filterwarnings('ignore')\n",
    "\n",
    "from sklearn.model_selection import train_test_split, RandomizedSearchCV, StratifiedKFold\n",
    "from sklearn.preprocessing import StandardScaler, OneHotEncoder, OrdinalEncoder, PowerTransformer\n",
    "from sklearn.compose import ColumnTransformer\n",
    "from sklearn.pipeline import Pipeline\n",
    "from sklearn.ensemble import RandomForestClassifier, GradientBoostingClassifier\n",
    "from sklearn.linear_model import LogisticRegression\n",
    "from sklearn.metrics import accuracy_score, precision_score, recall_score, f1_score, roc_auc_score, confusion_matrix, classification_report\n",
    "from xgboost import XGBClassifier\n",
    "from lightgbm import LGBMClassifier\n",
    "from imblearn.over_sampling import SMOTENC\n",
    "from sklearn.feature_selection import SelectFromModel\n",
    "from sklearn.base import BaseEstimator, TransformerMixin\n",
    "import shap\n",
    "import joblib\n",
    "\n",
    "sns.set_style('whitegrid')\n",
    "\n"
   ]
  },
  {
   "cell_type": "code",
   "execution_count": 2,
   "id": "f7c6321d",
   "metadata": {},
   "outputs": [],
   "source": [
    "os.makedirs('outputs', exist_ok=True)\n",
    "os.makedirs('models', exist_ok=True)"
   ]
  },
  {
   "cell_type": "markdown",
   "id": "3bff1350",
   "metadata": {},
   "source": [
    "Data Loading"
   ]
  },
  {
   "cell_type": "code",
   "execution_count": 3,
   "id": "fa4634a6",
   "metadata": {},
   "outputs": [
    {
     "name": "stdout",
     "output_type": "stream",
     "text": [
      "Dataset shape: (750000, 17)\n",
      "\n",
      "Target distribution:\n",
      "y\n",
      "0    659512\n",
      "1     90488\n",
      "Name: count, dtype: int64\n",
      "Class imbalance ratio: 7.29:1\n"
     ]
    }
   ],
   "source": [
    "df = pd.read_csv('clean_train.csv')\n",
    "print(f\"Dataset shape: {df.shape}\")\n",
    "print(f\"\\nTarget distribution:\\n{df['y'].value_counts()}\")\n",
    "print(f\"Class imbalance ratio: {df['y'].value_counts()[0] / df['y'].value_counts()[1]:.2f}:1\")"
   ]
  },
  {
   "cell_type": "markdown",
   "id": "fd607e88",
   "metadata": {},
   "source": [
    "Handling Class Imbalance with SMOTENC"
   ]
  },
  {
   "cell_type": "code",
   "execution_count": 4,
   "id": "6ec59bf0",
   "metadata": {},
   "outputs": [
    {
     "name": "stdout",
     "output_type": "stream",
     "text": [
      "Before SMOTENC: {0: 527610, 1: 72390}\n",
      "After SMOTENC: {0: 527610, 1: 527610}\n"
     ]
    }
   ],
   "source": [
    "X = df.drop('y', axis=1)\n",
    "y = df['y']\n",
    "\n",
    "cat_features = X.select_dtypes(include=['object']).columns.tolist()\n",
    "cat_index = [X.columns.get_loc(col) for col in cat_features]\n",
    "\n",
    "# Split first to avoid leakage\n",
    "X_train_raw, X_test_raw, y_train, y_test = train_test_split(\n",
    "    X, y, test_size=0.2, random_state=42, stratify=y\n",
    ")\n",
    "\n",
    "smote = SMOTENC(categorical_features=cat_index, random_state=42)\n",
    "X_train_bal, y_train_bal = smote.fit_resample(X_train_raw, y_train)\n",
    "\n",
    "X_train_bal = pd.DataFrame(X_train_bal, columns=X.columns)\n",
    "y_train_bal = pd.Series(y_train_bal, name='y')\n",
    "\n",
    "print(f\"Before SMOTENC: {y_train.value_counts().to_dict()}\")\n",
    "print(f\"After SMOTENC: {y_train_bal.value_counts().to_dict()}\")\n",
    "\n"
   ]
  },
  {
   "cell_type": "markdown",
   "id": "e9383e22",
   "metadata": {},
   "source": [
    "Feature Engineering & Identification"
   ]
  },
  {
   "cell_type": "code",
   "execution_count": 5,
   "id": "7bae274f",
   "metadata": {},
   "outputs": [
    {
     "name": "stdout",
     "output_type": "stream",
     "text": [
      "✓ Numerical features: 7\n",
      "✓ Categorical features: 9\n",
      "✓ High skew features: 5\n",
      "✓ Normal skew features: 2\n",
      "✓ Engineered features: 3 (balance_per_age, duration_per_campaign, has_previous)\n"
     ]
    }
   ],
   "source": [
    "class FeatureEngineer(BaseEstimator, TransformerMixin):\n",
    "    def fit(self, X, y=None):\n",
    "        return self\n",
    "    def transform(self, X):\n",
    "        X = X.copy()\n",
    "        X['balance_per_age'] = X['balance'] / (X['age'] + 1)\n",
    "        X['duration_per_campaign'] = X['duration'] / (X['campaign'] + 1)\n",
    "        X['has_previous'] = (X['previous'] > 0).astype(int)\n",
    "        return X\n",
    "\n",
    "# Identify feature types\n",
    "num_features = X_train_bal.select_dtypes(include=['int64', 'float64']).columns.tolist()\n",
    "cat_features = X_train_bal.select_dtypes(include=['object']).columns.tolist()\n",
    "skewness = X_train_bal[num_features].skew()\n",
    "high_skew = skewness[skewness >= 1].index.tolist()\n",
    "normal_skew = skewness[skewness < 1].index.tolist()\n",
    "\n",
    "print(f\"✓ Numerical features: {len(num_features)}\")\n",
    "print(f\"✓ Categorical features: {len(cat_features)}\")\n",
    "print(f\"✓ High skew features: {len(high_skew)}\")\n",
    "print(f\"✓ Normal skew features: {len(normal_skew)}\")\n",
    "print(f\"✓ Engineered features: 3 (balance_per_age, duration_per_campaign, has_previous)\")\n",
    "\n"
   ]
  },
  {
   "cell_type": "markdown",
   "id": "0712e7e5",
   "metadata": {},
   "source": [
    "Preprocessing Pipeline"
   ]
  },
  {
   "cell_type": "code",
   "execution_count": 6,
   "id": "11b53c68",
   "metadata": {},
   "outputs": [
    {
     "name": "stdout",
     "output_type": "stream",
     "text": [
      "✓ Preprocessor ready with ordinal, nominal, and numerical transformations\n"
     ]
    }
   ],
   "source": [
    "high_skew_with_eng = high_skew + ['balance_per_age', 'duration_per_campaign']\n",
    "normal_skew_with_eng = normal_skew + ['has_previous']\n",
    "\n",
    "ordinal_categories = [\n",
    "    ['unknown', 'primary', 'secondary', 'tertiary'],\n",
    "    ['jan', 'feb', 'mar', 'apr', 'may', 'jun', 'jul', 'aug', 'sep', 'oct', 'nov', 'dec']\n",
    "]\n",
    "ordinal_features = ['education', 'month']\n",
    "nominal_features = ['job', 'marital', 'default', 'housing', 'loan', 'contact', 'poutcome']\n",
    "\n",
    "preprocessor = ColumnTransformer([\n",
    "    ('ordinal', OrdinalEncoder(categories=ordinal_categories, handle_unknown='use_encoded_value', unknown_value=-1), ordinal_features),\n",
    "    ('nominal', OneHotEncoder(handle_unknown='ignore', sparse_output=True), nominal_features),\n",
    "    ('high_skew', PowerTransformer(), high_skew_with_eng),\n",
    "    ('normal_skew', StandardScaler(), normal_skew_with_eng)\n",
    "], remainder='passthrough')\n",
    "\n",
    "print(\"✓ Preprocessor ready with ordinal, nominal, and numerical transformations\")\n",
    "\n"
   ]
  },
  {
   "cell_type": "markdown",
   "id": "4d6a1dc5",
   "metadata": {},
   "source": [
    "Feature Selection"
   ]
  },
  {
   "cell_type": "code",
   "execution_count": 7,
   "id": "7994720e",
   "metadata": {},
   "outputs": [
    {
     "name": "stdout",
     "output_type": "stream",
     "text": [
      "Feature selector created (SelectFromModel RF)\n"
     ]
    }
   ],
   "source": [
    "\n",
    "\n",
    "feature_selector = SelectFromModel(\n",
    "    estimator=RandomForestClassifier(n_estimators=100, random_state=42, n_jobs=-1),\n",
    "    threshold='median'\n",
    ")\n",
    "print(\"Feature selector created (SelectFromModel RF)\")\n",
    "\n"
   ]
  },
  {
   "cell_type": "markdown",
   "id": "51770f85",
   "metadata": {},
   "source": [
    "Training Base Models"
   ]
  },
  {
   "cell_type": "code",
   "execution_count": 8,
   "id": "22569858",
   "metadata": {},
   "outputs": [
    {
     "name": "stdout",
     "output_type": "stream",
     "text": [
      "\n",
      "Training LogisticRegression...\n",
      "✓ LogisticRegression: F1=0.6094, ROC-AUC=0.9311\n",
      "\n",
      "Training RandomForest...\n",
      "✓ RandomForest: F1=0.6960, ROC-AUC=0.9569\n",
      "\n",
      "Training GradientBoosting...\n",
      "✓ GradientBoosting: F1=0.6532, ROC-AUC=0.9502\n",
      "\n",
      "Training XGBoost...\n",
      "✓ XGBoost: F1=0.6933, ROC-AUC=0.9602\n",
      "\n",
      "Training LightGBM...\n",
      "✓ LightGBM: F1=0.6854, ROC-AUC=0.9584\n"
     ]
    }
   ],
   "source": [
    "\n",
    "\n",
    "models = {\n",
    "    'LogisticRegression': LogisticRegression(max_iter=1000, random_state=42),\n",
    "    'RandomForest': RandomForestClassifier(n_estimators=100, random_state=42, n_jobs=-1),\n",
    "    'GradientBoosting': GradientBoostingClassifier(n_estimators=100, random_state=42),\n",
    "    'XGBoost': XGBClassifier(n_estimators=100, random_state=42, eval_metric='logloss', n_jobs=-1),\n",
    "    'LightGBM': LGBMClassifier(n_estimators=100, random_state=42, verbose=-1, n_jobs=-1)\n",
    "}\n",
    "\n",
    "results = {}\n",
    "\n",
    "for name, model in models.items():\n",
    "    print(f\"\\nTraining {name}...\")\n",
    "    pipeline = Pipeline([\n",
    "        ('feature_engineering', FeatureEngineer()),\n",
    "        ('preprocessor', preprocessor),\n",
    "        ('feature_selection', feature_selector),\n",
    "        ('classifier', model)\n",
    "    ])\n",
    "    pipeline.fit(X_train_bal, y_train_bal)\n",
    "    y_pred = pipeline.predict(X_test_raw)\n",
    "    y_proba = pipeline.predict_proba(X_test_raw)[:, 1]\n",
    "    \n",
    "    results[name] = {\n",
    "        'Accuracy': accuracy_score(y_test, y_pred),\n",
    "        'Precision': precision_score(y_test, y_pred),\n",
    "        'Recall': recall_score(y_test, y_pred),\n",
    "        'F1-Score': f1_score(y_test, y_pred),\n",
    "        'ROC-AUC': roc_auc_score(y_test, y_proba)\n",
    "    }\n",
    "    \n",
    "    print(f\"✓ {name}: F1={results[name]['F1-Score']:.4f}, ROC-AUC={results[name]['ROC-AUC']:.4f}\")\n",
    "\n",
    "\n"
   ]
  },
  {
   "cell_type": "markdown",
   "id": "863e5b7f",
   "metadata": {},
   "source": [
    "Model Comparison"
   ]
  },
  {
   "cell_type": "code",
   "execution_count": 9,
   "id": "f98a7580",
   "metadata": {},
   "outputs": [
    {
     "name": "stdout",
     "output_type": "stream",
     "text": [
      "                    Accuracy  Precision  Recall  F1-Score  ROC-AUC\n",
      "RandomForest          0.9154     0.6145  0.8025    0.6960   0.9569\n",
      "XGBoost               0.9098     0.5878  0.8450    0.6933   0.9602\n",
      "LightGBM              0.9060     0.5747  0.8489    0.6854   0.9584\n",
      "GradientBoosting      0.8894     0.5253  0.8632    0.6532   0.9502\n",
      "LogisticRegression    0.8718     0.4818  0.8290    0.6094   0.9311\n",
      "\n",
      "🏆 Best Model: RandomForest\n"
     ]
    }
   ],
   "source": [
    "\n",
    "results_df = pd.DataFrame(results).T\n",
    "results_df_sorted = results_df.round(4).sort_values('F1-Score', ascending=False)\n",
    "print(results_df_sorted)\n",
    "\n",
    "best_model_name = results_df_sorted.index[0]\n",
    "print(f\"\\n🏆 Best Model: {best_model_name}\")\n",
    "\n"
   ]
  },
  {
   "cell_type": "markdown",
   "id": "c8e07e4a",
   "metadata": {},
   "source": [
    "Hyperparameter Tuning"
   ]
  },
  {
   "cell_type": "code",
   "execution_count": 11,
   "id": "d650807c",
   "metadata": {},
   "outputs": [
    {
     "name": "stdout",
     "output_type": "stream",
     "text": [
      "Fitting 3 folds for each of 5 candidates, totalling 15 fits\n"
     ]
    }
   ],
   "source": [
    "\n",
    "param_grids = {\n",
    "    'RandomForest': {\n",
    "        'classifier__n_estimators': [100, 200, 300],\n",
    "        'classifier__max_depth': [10, 20, 30, None],\n",
    "        'classifier__min_samples_split': [2, 5, 10],\n",
    "        'classifier__min_samples_leaf': [1, 2, 4]\n",
    "    },\n",
    "    'XGBoost': {\n",
    "        'classifier__n_estimators': [100, 200, 300],\n",
    "        'classifier__max_depth': [3, 5, 7, 10],\n",
    "        'classifier__learning_rate': [0.01, 0.05, 0.1, 0.2],\n",
    "        'classifier__subsample': [0.7, 0.8, 0.9]\n",
    "    },\n",
    "    'LightGBM': {\n",
    "        'classifier__n_estimators': [100, 200, 300],\n",
    "        'classifier__max_depth': [3, 5, 7, 10],\n",
    "        'classifier__learning_rate': [0.01, 0.05, 0.1, 0.2],\n",
    "        'classifier__num_leaves': [20, 31, 40]\n",
    "    },\n",
    "    'GradientBoosting': {\n",
    "        'classifier__n_estimators': [100, 200, 300],\n",
    "        'classifier__max_depth': [3, 5, 7],\n",
    "        'classifier__learning_rate': [0.01, 0.05, 0.1, 0.2],\n",
    "        'classifier__subsample': [0.7, 0.8, 0.9]\n",
    "    },\n",
    "    'LogisticRegression': {\n",
    "        'classifier__C': [0.01, 0.1, 1, 10],\n",
    "        'classifier__penalty': ['l1', 'l2'],\n",
    "        'classifier__solver': ['liblinear', 'saga']\n",
    "    }\n",
    "}\n",
    "\n",
    "# Select model for tuning\n",
    "tuning_model = models[best_model_name]\n",
    "param_grid = param_grids[best_model_name]\n",
    "\n",
    "tuning_pipeline = Pipeline([\n",
    "    ('feature_engineering', FeatureEngineer()),\n",
    "    ('preprocessor', preprocessor),\n",
    "    ('feature_selection', feature_selector),\n",
    "    ('classifier', tuning_model)\n",
    "])\n",
    "\n",
    "cv = StratifiedKFold(n_splits=3, shuffle=True, random_state=42)\n",
    "\n",
    "random_search = RandomizedSearchCV(\n",
    "    tuning_pipeline,\n",
    "    param_distributions=param_grid,\n",
    "    n_iter=5,\n",
    "    scoring='f1',\n",
    "    cv=cv,\n",
    "    random_state=42,\n",
    "    n_jobs=-1,\n",
    "    verbose=1\n",
    ")\n",
    "random_search.fit(X_train_bal, y_train_bal)\n",
    "best_tuned_pipeline = random_search.best_estimator_\n",
    "best_params = random_search.best_params_\n",
    "best_cv_score = random_search.best_score_\n"
   ]
  },
  {
   "cell_type": "markdown",
   "id": "2c3187d4",
   "metadata": {},
   "source": [
    "Evaluating Tuned Model"
   ]
  },
  {
   "cell_type": "code",
   "execution_count": 12,
   "id": "5b8bc8f0",
   "metadata": {},
   "outputs": [
    {
     "name": "stdout",
     "output_type": "stream",
     "text": [
      "\n",
      "Tuned Model Test Results:\n",
      "  Accuracy: 0.9112\n",
      "  Precision: 0.5951\n",
      "  Recall: 0.8273\n",
      "  F1-Score: 0.6922\n",
      "  ROC-AUC: 0.9584\n"
     ]
    }
   ],
   "source": [
    "\n",
    "y_pred_tuned = best_tuned_pipeline.predict(X_test_raw)\n",
    "y_proba_tuned = best_tuned_pipeline.predict_proba(X_test_raw)[:, 1]\n",
    "\n",
    "tuned_results = {\n",
    "    'Accuracy': accuracy_score(y_test, y_pred_tuned),\n",
    "    'Precision': precision_score(y_test, y_pred_tuned),\n",
    "    'Recall': recall_score(y_test, y_pred_tuned),\n",
    "    'F1-Score': f1_score(y_test, y_pred_tuned),\n",
    "    'ROC-AUC': roc_auc_score(y_test, y_proba_tuned)\n",
    "}\n",
    "\n",
    "print(\"\\nTuned Model Test Results:\")\n",
    "for metric, value in tuned_results.items():\n",
    "    print(f\"  {metric}: {value:.4f}\")\n",
    "\n",
    "\n",
    "\n"
   ]
  },
  {
   "cell_type": "markdown",
   "id": "a3e2afa6",
   "metadata": {},
   "source": [
    "Visualizations"
   ]
  },
  {
   "cell_type": "code",
   "execution_count": 13,
   "id": "99b72bfd",
   "metadata": {},
   "outputs": [
    {
     "data": {
      "image/png": "[encoded data removed]",
      "text/plain": [
       "<Figure size 1500x500 with 2 Axes>"
      ]
     },
     "metadata": {},
     "output_type": "display_data"
    },
    {
     "data": {
      "image/png": "[encoded data removed]",
      "text/plain": [
       "<Figure size 600x500 with 2 Axes>"
      ]
     },
     "metadata": {},
     "output_type": "display_data"
    },
    {
     "name": "stdout",
     "output_type": "stream",
     "text": [
      "              precision    recall  f1-score   support\n",
      "\n",
      "          No       0.97      0.92      0.95    131902\n",
      "         Yes       0.60      0.83      0.69     18098\n",
      "\n",
      "    accuracy                           0.91    150000\n",
      "   macro avg       0.79      0.88      0.82    150000\n",
      "weighted avg       0.93      0.91      0.92    150000\n",
      "\n"
     ]
    }
   ],
   "source": [
    "\n",
    "os.makedirs('outputs/plots', exist_ok=True)\n",
    "\n",
    "# Model Comparison\n",
    "fig, ax = plt.subplots(1, 2, figsize=(15,5))\n",
    "results_df[['Accuracy','Precision','Recall','F1-Score']].plot(kind='bar', ax=ax[0], width=0.8)\n",
    "ax[0].set_title('Model Performance Comparison')\n",
    "ax[0].grid(alpha=0.3)\n",
    "\n",
    "results_df['ROC-AUC'].plot(kind='barh', ax=ax[1], color='coral')\n",
    "ax[1].set_title('ROC-AUC Comparison')\n",
    "ax[1].grid(alpha=0.3)\n",
    "plt.tight_layout()\n",
    "plt.savefig('outputs/plots/model_comparison.png', dpi=300)\n",
    "plt.show()\n",
    "\n",
    "# Confusion Matrix\n",
    "cm = confusion_matrix(y_test, y_pred_tuned)\n",
    "plt.figure(figsize=(6,5))\n",
    "sns.heatmap(cm, annot=True, fmt='d', cmap='Blues')\n",
    "plt.title(f'Confusion Matrix - {best_model_name} (Tuned)')\n",
    "plt.ylabel('Actual')\n",
    "plt.xlabel('Predicted')\n",
    "plt.tight_layout()\n",
    "plt.savefig('outputs/plots/confusion_matrix.png', dpi=300)\n",
    "plt.show()\n",
    "\n",
    "# Classification Report\n",
    "print(classification_report(y_test, y_pred_tuned, target_names=['No','Yes']))\n"
   ]
  },
  {
   "cell_type": "markdown",
   "id": "c97ceb2a",
   "metadata": {},
   "source": [
    "Save Pipelline"
   ]
  },
  {
   "cell_type": "code",
   "execution_count": 14,
   "id": "da7b81ce",
   "metadata": {},
   "outputs": [
    {
     "name": "stdout",
     "output_type": "stream",
     "text": [
      "✓ Model and results saved in 'models/' folder\n"
     ]
    }
   ],
   "source": [
    "\n",
    "joblib.dump(best_tuned_pipeline, 'models/best_model.pkl')\n",
    "results_summary = {\n",
    "    'best_model': best_model_name,\n",
    "    'best_params': best_params,\n",
    "    'test_scores': tuned_results,\n",
    "    'cv_score': best_cv_score\n",
    "}\n",
    "joblib.dump(results_summary, 'models/results_summary.pkl')\n",
    "print(\"✓ Model and results saved in 'models/' folder\")"
   ]
  },
  {
   "cell_type": "markdown",
   "id": "9bf40b8e",
   "metadata": {},
   "source": [
    "SHAP Analysis"
   ]
  },
  {
   "cell_type": "code",
   "execution_count": 15,
   "id": "a1dcd763",
   "metadata": {},
   "outputs": [
    {
     "name": "stdout",
     "output_type": "stream",
     "text": [
      "Loaded trained pipeline successfully!\n",
      "Pipeline(steps=[('feature_engineering', FeatureEngineer()),\n",
      "                ('preprocessor',\n",
      "                 ColumnTransformer(remainder='passthrough',\n",
      "                                   transformers=[('ordinal',\n",
      "                                                  OrdinalEncoder(categories=[['unknown',\n",
      "                                                                              'primary',\n",
      "                                                                              'secondary',\n",
      "                                                                              'tertiary'],\n",
      "                                                                             ['jan',\n",
      "                                                                              'feb',\n",
      "                                                                              'mar',\n",
      "                                                                              'apr',\n",
      "                                                                              'may',\n",
      "                                                                              'jun',\n",
      "                                                                              'jul',\n",
      "                                                                              'aug',\n",
      "                                                                              'sep',\n",
      "                                                                              'oct',\n",
      "                                                                              'nov',\n",
      "                                                                              'dec']],\n",
      "                                                                 handle_unknown='use_encoded_value',\n",
      "                                                                 unknown_value=-1),\n",
      "                                                  ['educati...\n",
      "                                                   'balance_per_age',\n",
      "                                                   'duration_per_campaign']),\n",
      "                                                 ('normal_skew',\n",
      "                                                  StandardScaler(),\n",
      "                                                  ['age', 'day',\n",
      "                                                   'has_previous'])])),\n",
      "                ('feature_selection',\n",
      "                 SelectFromModel(estimator=RandomForestClassifier(n_jobs=-1,\n",
      "                                                                  random_state=42),\n",
      "                                 threshold='median')),\n",
      "                ('classifier',\n",
      "                 RandomForestClassifier(max_depth=30, min_samples_leaf=4,\n",
      "                                        min_samples_split=5, n_estimators=300,\n",
      "                                        n_jobs=-1, random_state=42))])\n"
     ]
    }
   ],
   "source": [
    "import joblib\n",
    "\n",
    "# Load your trained pipeline\n",
    "best_tuned_pipeline = joblib.load(\"models/best_model.pkl\")\n",
    "\n",
    "print(\"Loaded trained pipeline successfully!\")\n",
    "print(best_tuned_pipeline)\n"
   ]
  },
  {
   "cell_type": "code",
   "execution_count": 17,
   "id": "2c1875a5",
   "metadata": {},
   "outputs": [
    {
     "name": "stdout",
     "output_type": "stream",
     "text": [
      "🔹 Running SHAP analysis for classifier only...\n",
      "✅ SHAP data shape: (500, 20, 2), Features: 20\n"
     ]
    },
    {
     "data": {
      "text/plain": [
       "<Figure size 800x1000 with 0 Axes>"
      ]
     },
     "metadata": {},
     "output_type": "display_data"
    },
    {
     "data": {
      "image/png": "[encoded data removed]",
      "text/plain": [
       "<Figure size 1900x1060 with 2 Axes>"
      ]
     },
     "metadata": {},
     "output_type": "display_data"
    },
    {
     "ename": "ValueError",
     "evalue": "Per-column arrays must each be 1-dimensional",
     "output_type": "error",
     "traceback": [
      "\u001b[31m---------------------------------------------------------------------------\u001b[39m",
      "\u001b[31mValueError\u001b[39m                                Traceback (most recent call last)",
      "\u001b[36mCell\u001b[39m\u001b[36m \u001b[39m\u001b[32mIn[17]\u001b[39m\u001b[32m, line 73\u001b[39m\n\u001b[32m     70\u001b[39m mean_shap = np.abs(shap_data).mean(axis=\u001b[32m0\u001b[39m)\n\u001b[32m     72\u001b[39m \u001b[38;5;66;03m# 🔧 FIX: Ensure both arrays have same length\u001b[39;00m\n\u001b[32m---> \u001b[39m\u001b[32m73\u001b[39m shap_imp = \u001b[43mpd\u001b[49m\u001b[43m.\u001b[49m\u001b[43mDataFrame\u001b[49m\u001b[43m(\u001b[49m\u001b[43m{\u001b[49m\n\u001b[32m     74\u001b[39m \u001b[43m    \u001b[49m\u001b[33;43m\"\u001b[39;49m\u001b[33;43mfeature\u001b[39;49m\u001b[33;43m\"\u001b[39;49m\u001b[43m:\u001b[49m\u001b[43m \u001b[49m\u001b[43mfeat_names\u001b[49m\u001b[43m[\u001b[49m\u001b[43m:\u001b[49m\u001b[38;5;28;43mlen\u001b[39;49m\u001b[43m(\u001b[49m\u001b[43mmean_shap\u001b[49m\u001b[43m)\u001b[49m\u001b[43m]\u001b[49m\u001b[43m,\u001b[49m\u001b[43m \u001b[49m\n\u001b[32m     75\u001b[39m \u001b[43m    \u001b[49m\u001b[33;43m\"\u001b[39;49m\u001b[33;43mimportance\u001b[39;49m\u001b[33;43m\"\u001b[39;49m\u001b[43m:\u001b[49m\u001b[43m \u001b[49m\u001b[43mmean_shap\u001b[49m\n\u001b[32m     76\u001b[39m \u001b[43m}\u001b[49m\u001b[43m)\u001b[49m.sort_values(\u001b[33m\"\u001b[39m\u001b[33mimportance\u001b[39m\u001b[33m\"\u001b[39m, ascending=\u001b[38;5;28;01mFalse\u001b[39;00m)\n\u001b[32m     78\u001b[39m plt.figure(figsize=(\u001b[32m8\u001b[39m, \u001b[32m6\u001b[39m))\n\u001b[32m     79\u001b[39m sns.barplot(data=shap_imp.head(\u001b[32m12\u001b[39m), x=\u001b[33m\"\u001b[39m\u001b[33mimportance\u001b[39m\u001b[33m\"\u001b[39m, y=\u001b[33m\"\u001b[39m\u001b[33mfeature\u001b[39m\u001b[33m\"\u001b[39m, palette=\u001b[33m\"\u001b[39m\u001b[33mviridis\u001b[39m\u001b[33m\"\u001b[39m)\n",
      "\u001b[36mFile \u001b[39m\u001b[32md:\\backup\\AI course work\\Guvi\\projects\\Bank-Term Deposit Subscription Prediction\\venv\\Lib\\site-packages\\pandas\\core\\frame.py:782\u001b[39m, in \u001b[36mDataFrame.__init__\u001b[39m\u001b[34m(self, data, index, columns, dtype, copy)\u001b[39m\n\u001b[32m    776\u001b[39m     mgr = \u001b[38;5;28mself\u001b[39m._init_mgr(\n\u001b[32m    777\u001b[39m         data, axes={\u001b[33m\"\u001b[39m\u001b[33mindex\u001b[39m\u001b[33m\"\u001b[39m: index, \u001b[33m\"\u001b[39m\u001b[33mcolumns\u001b[39m\u001b[33m\"\u001b[39m: columns}, dtype=dtype, copy=copy\n\u001b[32m    778\u001b[39m     )\n\u001b[32m    780\u001b[39m \u001b[38;5;28;01melif\u001b[39;00m \u001b[38;5;28misinstance\u001b[39m(data, \u001b[38;5;28mdict\u001b[39m):\n\u001b[32m    781\u001b[39m     \u001b[38;5;66;03m# GH#38939 de facto copy defaults to False only in non-dict cases\u001b[39;00m\n\u001b[32m--> \u001b[39m\u001b[32m782\u001b[39m     mgr = \u001b[43mdict_to_mgr\u001b[49m\u001b[43m(\u001b[49m\u001b[43mdata\u001b[49m\u001b[43m,\u001b[49m\u001b[43m \u001b[49m\u001b[43mindex\u001b[49m\u001b[43m,\u001b[49m\u001b[43m \u001b[49m\u001b[43mcolumns\u001b[49m\u001b[43m,\u001b[49m\u001b[43m \u001b[49m\u001b[43mdtype\u001b[49m\u001b[43m=\u001b[49m\u001b[43mdtype\u001b[49m\u001b[43m,\u001b[49m\u001b[43m \u001b[49m\u001b[43mcopy\u001b[49m\u001b[43m=\u001b[49m\u001b[43mcopy\u001b[49m\u001b[43m,\u001b[49m\u001b[43m \u001b[49m\u001b[43mtyp\u001b[49m\u001b[43m=\u001b[49m\u001b[43mmanager\u001b[49m\u001b[43m)\u001b[49m\n\u001b[32m    783\u001b[39m \u001b[38;5;28;01melif\u001b[39;00m \u001b[38;5;28misinstance\u001b[39m(data, ma.MaskedArray):\n\u001b[32m    784\u001b[39m     \u001b[38;5;28;01mfrom\u001b[39;00m\u001b[38;5;250m \u001b[39m\u001b[34;01mnumpy\u001b[39;00m\u001b[34;01m.\u001b[39;00m\u001b[34;01mma\u001b[39;00m\u001b[38;5;250m \u001b[39m\u001b[38;5;28;01mimport\u001b[39;00m mrecords\n",
      "\u001b[36mFile \u001b[39m\u001b[32md:\\backup\\AI course work\\Guvi\\projects\\Bank-Term Deposit Subscription Prediction\\venv\\Lib\\site-packages\\pandas\\core\\internals\\construction.py:503\u001b[39m, in \u001b[36mdict_to_mgr\u001b[39m\u001b[34m(data, index, columns, dtype, typ, copy)\u001b[39m\n\u001b[32m    499\u001b[39m     \u001b[38;5;28;01melse\u001b[39;00m:\n\u001b[32m    500\u001b[39m         \u001b[38;5;66;03m# dtype check to exclude e.g. range objects, scalars\u001b[39;00m\n\u001b[32m    501\u001b[39m         arrays = [x.copy() \u001b[38;5;28;01mif\u001b[39;00m \u001b[38;5;28mhasattr\u001b[39m(x, \u001b[33m\"\u001b[39m\u001b[33mdtype\u001b[39m\u001b[33m\"\u001b[39m) \u001b[38;5;28;01melse\u001b[39;00m x \u001b[38;5;28;01mfor\u001b[39;00m x \u001b[38;5;129;01min\u001b[39;00m arrays]\n\u001b[32m--> \u001b[39m\u001b[32m503\u001b[39m \u001b[38;5;28;01mreturn\u001b[39;00m \u001b[43marrays_to_mgr\u001b[49m\u001b[43m(\u001b[49m\u001b[43marrays\u001b[49m\u001b[43m,\u001b[49m\u001b[43m \u001b[49m\u001b[43mcolumns\u001b[49m\u001b[43m,\u001b[49m\u001b[43m \u001b[49m\u001b[43mindex\u001b[49m\u001b[43m,\u001b[49m\u001b[43m \u001b[49m\u001b[43mdtype\u001b[49m\u001b[43m=\u001b[49m\u001b[43mdtype\u001b[49m\u001b[43m,\u001b[49m\u001b[43m \u001b[49m\u001b[43mtyp\u001b[49m\u001b[43m=\u001b[49m\u001b[43mtyp\u001b[49m\u001b[43m,\u001b[49m\u001b[43m \u001b[49m\u001b[43mconsolidate\u001b[49m\u001b[43m=\u001b[49m\u001b[43mcopy\u001b[49m\u001b[43m)\u001b[49m\n",
      "\u001b[36mFile \u001b[39m\u001b[32md:\\backup\\AI course work\\Guvi\\projects\\Bank-Term Deposit Subscription Prediction\\venv\\Lib\\site-packages\\pandas\\core\\internals\\construction.py:114\u001b[39m, in \u001b[36marrays_to_mgr\u001b[39m\u001b[34m(arrays, columns, index, dtype, verify_integrity, typ, consolidate)\u001b[39m\n\u001b[32m    111\u001b[39m \u001b[38;5;28;01mif\u001b[39;00m verify_integrity:\n\u001b[32m    112\u001b[39m     \u001b[38;5;66;03m# figure out the index, if necessary\u001b[39;00m\n\u001b[32m    113\u001b[39m     \u001b[38;5;28;01mif\u001b[39;00m index \u001b[38;5;129;01mis\u001b[39;00m \u001b[38;5;28;01mNone\u001b[39;00m:\n\u001b[32m--> \u001b[39m\u001b[32m114\u001b[39m         index = \u001b[43m_extract_index\u001b[49m\u001b[43m(\u001b[49m\u001b[43marrays\u001b[49m\u001b[43m)\u001b[49m\n\u001b[32m    115\u001b[39m     \u001b[38;5;28;01melse\u001b[39;00m:\n\u001b[32m    116\u001b[39m         index = ensure_index(index)\n",
      "\u001b[36mFile \u001b[39m\u001b[32md:\\backup\\AI course work\\Guvi\\projects\\Bank-Term Deposit Subscription Prediction\\venv\\Lib\\site-packages\\pandas\\core\\internals\\construction.py:664\u001b[39m, in \u001b[36m_extract_index\u001b[39m\u001b[34m(data)\u001b[39m\n\u001b[32m    662\u001b[39m         raw_lengths.append(\u001b[38;5;28mlen\u001b[39m(val))\n\u001b[32m    663\u001b[39m     \u001b[38;5;28;01melif\u001b[39;00m \u001b[38;5;28misinstance\u001b[39m(val, np.ndarray) \u001b[38;5;129;01mand\u001b[39;00m val.ndim > \u001b[32m1\u001b[39m:\n\u001b[32m--> \u001b[39m\u001b[32m664\u001b[39m         \u001b[38;5;28;01mraise\u001b[39;00m \u001b[38;5;167;01mValueError\u001b[39;00m(\u001b[33m\"\u001b[39m\u001b[33mPer-column arrays must each be 1-dimensional\u001b[39m\u001b[33m\"\u001b[39m)\n\u001b[32m    666\u001b[39m \u001b[38;5;28;01mif\u001b[39;00m \u001b[38;5;129;01mnot\u001b[39;00m indexes \u001b[38;5;129;01mand\u001b[39;00m \u001b[38;5;129;01mnot\u001b[39;00m raw_lengths:\n\u001b[32m    667\u001b[39m     \u001b[38;5;28;01mraise\u001b[39;00m \u001b[38;5;167;01mValueError\u001b[39;00m(\u001b[33m\"\u001b[39m\u001b[33mIf using all scalar values, you must pass an index\u001b[39m\u001b[33m\"\u001b[39m)\n",
      "\u001b[31mValueError\u001b[39m: Per-column arrays must each be 1-dimensional"
     ]
    }
   ],
   "source": [
    "# ================================================================\n",
    "# 🧠 SHAP ANALYSIS — CLASSIFIER LEVEL (Simplified Full Script)\n",
    "# ================================================================\n",
    "import shap, numpy as np, pandas as pd, matplotlib.pyplot as plt, seaborn as sns, os\n",
    "\n",
    "print(\"🔹 Running SHAP analysis for classifier only...\")\n",
    "\n",
    "# --- Sample subset for SHAP ---\n",
    "X_sample = X_test_raw.sample(n=min(500, len(X_test_raw)), random_state=42)\n",
    "os.makedirs(\"outputs/plots/shap\", exist_ok=True)\n",
    "\n",
    "# --- Extract pipeline steps ---\n",
    "steps = best_tuned_pipeline.named_steps\n",
    "fe, prep, fs, clf = (\n",
    "    steps.get(\"feature_engineering\"),\n",
    "    steps.get(\"preprocessor\"),\n",
    "    steps.get(\"feature_selection\"),\n",
    "    steps.get(\"classifier\"),\n",
    ")\n",
    "\n",
    "# --- Transform data step by step ---\n",
    "X_eng = fe.transform(X_sample)\n",
    "X_prep = prep.transform(X_eng)\n",
    "X_trans = fs.transform(X_prep) if fs else X_prep\n",
    "\n",
    "# --- Get feature names ---\n",
    "try:\n",
    "    feat_names = prep.get_feature_names_out()\n",
    "    feat_names = np.array([f.split(\"__\")[-1] for f in feat_names])\n",
    "except Exception:\n",
    "    feat_names = np.array(X_eng.columns)\n",
    "\n",
    "if hasattr(fs, \"get_support\"):\n",
    "    feat_names = feat_names[fs.get_support()]\n",
    "feat_names = np.array([str(f) for f in feat_names])\n",
    "\n",
    "# ================================================================\n",
    "# 🔹 SHAP Computation\n",
    "# ================================================================\n",
    "explainer = shap.TreeExplainer(clf)\n",
    "shap_vals = explainer.shap_values(X_trans)\n",
    "\n",
    "# Handle binary/multi-class\n",
    "if isinstance(shap_vals, list):\n",
    "    shap_data = shap_vals[1]  # class-1 contributions\n",
    "else:\n",
    "    shap_data = shap_vals\n",
    "\n",
    "# 🔧 FIX: Ensure shapes match\n",
    "n_features = shap_data.shape[1]\n",
    "feat_names = feat_names[:n_features]  # Trim to match SHAP output\n",
    "\n",
    "X_shap = pd.DataFrame(X_trans[:, :n_features], columns=feat_names)\n",
    "X_shap.columns = X_shap.columns.astype(str)\n",
    "\n",
    "print(f\"✅ SHAP data shape: {shap_data.shape}, Features: {len(feat_names)}\")\n",
    "\n",
    "# ================================================================\n",
    "# 📊 1️⃣ SHAP Summary Plot (Feature Contribution)\n",
    "# ================================================================\n",
    "plt.figure(figsize=(8, 10))\n",
    "shap.summary_plot(shap_data, X_shap, plot_type=\"dot\", max_display=12, show=False)\n",
    "plt.tight_layout()\n",
    "plt.savefig(\"outputs/plots/shap/shap_summary_dot.png\", dpi=300, bbox_inches=\"tight\")\n",
    "plt.show()\n",
    "\n",
    "# ================================================================\n",
    "# 📊 2️⃣ SHAP Bar Plot (Feature Importance)\n",
    "# ================================================================\n",
    "mean_shap = np.abs(shap_data).mean(axis=0)\n",
    "\n",
    "# 🔧 FIX: Ensure both arrays have same length\n",
    "shap_imp = pd.DataFrame({\n",
    "    \"feature\": feat_names[:len(mean_shap)], \n",
    "    \"importance\": mean_shap\n",
    "}).sort_values(\"importance\", ascending=False)\n",
    "\n",
    "plt.figure(figsize=(8, 6))\n",
    "sns.barplot(data=shap_imp.head(12), x=\"importance\", y=\"feature\", palette=\"viridis\")\n",
    "plt.title(\"Top 12 Features by Mean |SHAP| Value\")\n",
    "plt.tight_layout()\n",
    "plt.savefig(\"outputs/plots/shap/shap_bar.png\", dpi=300, bbox_inches=\"tight\")\n",
    "plt.show()\n",
    "\n",
    "# ================================================================\n",
    "# 📊 3️⃣ Positive vs Negative Contribution Plot\n",
    "# ================================================================\n",
    "shap_df = pd.DataFrame(shap_data, columns=X_shap.columns)\n",
    "feature_contrib = pd.DataFrame({\n",
    "    \"mean_positive\": shap_df[shap_df > 0].mean(),\n",
    "    \"mean_negative\": shap_df[shap_df < 0].mean(),\n",
    "    \"mean_abs\": shap_df.abs().mean(),\n",
    "}).fillna(0).sort_values(\"mean_abs\", ascending=False)\n",
    "\n",
    "plt.figure(figsize=(10, 6))\n",
    "top_12 = feature_contrib.head(12)\n",
    "plt.barh(top_12.index, top_12[\"mean_positive\"], color=\"green\", label=\"Positive (↑ Class 1)\")\n",
    "plt.barh(top_12.index, top_12[\"mean_negative\"], color=\"red\", label=\"Negative (↓ Class 1)\")\n",
    "plt.xlabel(\"Mean SHAP Value\")\n",
    "plt.ylabel(\"Feature\")\n",
    "plt.title(\"Feature Contribution — Positive vs Negative Impact\")\n",
    "plt.legend()\n",
    "plt.gca().invert_yaxis()  # Top feature at top\n",
    "plt.tight_layout()\n",
    "plt.savefig(\"outputs/plots/shap/shap_pos_neg.png\", dpi=300, bbox_inches=\"tight\")\n",
    "plt.show()\n",
    "\n",
    "# ================================================================\n",
    "# 📄 Save Results\n",
    "# ================================================================\n",
    "feature_contrib.to_csv(\"outputs/plots/shap/shap_feature_contributions.csv\", index=True)\n",
    "print(\"\\n✅ SHAP analysis complete. Results saved in 'outputs/plots/shap/' folder.\")\n",
    "display(feature_contrib.head(12))"
   ]
  },
  {
   "cell_type": "markdown",
   "id": "eed9490e",
   "metadata": {},
   "source": [
    "Inference on Test Data"
   ]
  },
  {
   "cell_type": "code",
   "execution_count": null,
   "id": "328f8263",
   "metadata": {},
   "outputs": [
    {
     "ename": "MemoryError",
     "evalue": "could not allocate 8602176 bytes",
     "output_type": "error",
     "traceback": [
      "\u001b[31m---------------------------------------------------------------------------\u001b[39m",
      "\u001b[31mMemoryError\u001b[39m                               Traceback (most recent call last)",
      "\u001b[36mCell\u001b[39m\u001b[36m \u001b[39m\u001b[32mIn[20]\u001b[39m\u001b[32m, line 8\u001b[39m\n\u001b[32m      5\u001b[39m test_df = pd.read_csv(\u001b[33m'\u001b[39m\u001b[33mclean_test.csv\u001b[39m\u001b[33m'\u001b[39m)  \n\u001b[32m      7\u001b[39m \u001b[38;5;66;03m# Load trained pipeline\u001b[39;00m\n\u001b[32m----> \u001b[39m\u001b[32m8\u001b[39m model = \u001b[43mjoblib\u001b[49m\u001b[43m.\u001b[49m\u001b[43mload\u001b[49m\u001b[43m(\u001b[49m\u001b[33;43m'\u001b[39;49m\u001b[33;43mmodels/best_model.pkl\u001b[39;49m\u001b[33;43m'\u001b[39;49m\u001b[43m)\u001b[49m\n\u001b[32m     10\u001b[39m \u001b[38;5;66;03m# Predict\u001b[39;00m\n\u001b[32m     11\u001b[39m predictions = model.predict(test_df)\n",
      "\u001b[36mFile \u001b[39m\u001b[32md:\\backup\\AI course work\\Guvi\\projects\\Bank-Term Deposit Subscription Prediction\\venv\\Lib\\site-packages\\joblib\\numpy_pickle.py:749\u001b[39m, in \u001b[36mload\u001b[39m\u001b[34m(filename, mmap_mode, ensure_native_byte_order)\u001b[39m\n\u001b[32m    744\u001b[39m                 \u001b[38;5;28;01mreturn\u001b[39;00m load_compatibility(fobj)\n\u001b[32m    746\u001b[39m             \u001b[38;5;66;03m# A memory-mapped array has to be mapped with the endianness\u001b[39;00m\n\u001b[32m    747\u001b[39m             \u001b[38;5;66;03m# it has been written with. Other arrays are coerced to the\u001b[39;00m\n\u001b[32m    748\u001b[39m             \u001b[38;5;66;03m# native endianness of the host system.\u001b[39;00m\n\u001b[32m--> \u001b[39m\u001b[32m749\u001b[39m             obj = \u001b[43m_unpickle\u001b[49m\u001b[43m(\u001b[49m\n\u001b[32m    750\u001b[39m \u001b[43m                \u001b[49m\u001b[43mfobj\u001b[49m\u001b[43m,\u001b[49m\n\u001b[32m    751\u001b[39m \u001b[43m                \u001b[49m\u001b[43mensure_native_byte_order\u001b[49m\u001b[43m=\u001b[49m\u001b[43mensure_native_byte_order\u001b[49m\u001b[43m,\u001b[49m\n\u001b[32m    752\u001b[39m \u001b[43m                \u001b[49m\u001b[43mfilename\u001b[49m\u001b[43m=\u001b[49m\u001b[43mfilename\u001b[49m\u001b[43m,\u001b[49m\n\u001b[32m    753\u001b[39m \u001b[43m                \u001b[49m\u001b[43mmmap_mode\u001b[49m\u001b[43m=\u001b[49m\u001b[43mvalidated_mmap_mode\u001b[49m\u001b[43m,\u001b[49m\n\u001b[32m    754\u001b[39m \u001b[43m            \u001b[49m\u001b[43m)\u001b[49m\n\u001b[32m    756\u001b[39m \u001b[38;5;28;01mreturn\u001b[39;00m obj\n",
      "\u001b[36mFile \u001b[39m\u001b[32md:\\backup\\AI course work\\Guvi\\projects\\Bank-Term Deposit Subscription Prediction\\venv\\Lib\\site-packages\\joblib\\numpy_pickle.py:626\u001b[39m, in \u001b[36m_unpickle\u001b[39m\u001b[34m(fobj, ensure_native_byte_order, filename, mmap_mode)\u001b[39m\n\u001b[32m    624\u001b[39m obj = \u001b[38;5;28;01mNone\u001b[39;00m\n\u001b[32m    625\u001b[39m \u001b[38;5;28;01mtry\u001b[39;00m:\n\u001b[32m--> \u001b[39m\u001b[32m626\u001b[39m     obj = \u001b[43munpickler\u001b[49m\u001b[43m.\u001b[49m\u001b[43mload\u001b[49m\u001b[43m(\u001b[49m\u001b[43m)\u001b[49m\n\u001b[32m    627\u001b[39m     \u001b[38;5;28;01mif\u001b[39;00m unpickler.compat_mode:\n\u001b[32m    628\u001b[39m         warnings.warn(\n\u001b[32m    629\u001b[39m             \u001b[33m\"\u001b[39m\u001b[33mThe file \u001b[39m\u001b[33m'\u001b[39m\u001b[38;5;132;01m%s\u001b[39;00m\u001b[33m'\u001b[39m\u001b[33m has been generated with a \u001b[39m\u001b[33m\"\u001b[39m\n\u001b[32m    630\u001b[39m             \u001b[33m\"\u001b[39m\u001b[33mjoblib version less than 0.10. \u001b[39m\u001b[33m\"\u001b[39m\n\u001b[32m   (...)\u001b[39m\u001b[32m    633\u001b[39m             stacklevel=\u001b[32m3\u001b[39m,\n\u001b[32m    634\u001b[39m         )\n",
      "\u001b[36mFile \u001b[39m\u001b[32m~\\AppData\\Local\\Programs\\Python\\Python311\\Lib\\pickle.py:1213\u001b[39m, in \u001b[36m_Unpickler.load\u001b[39m\u001b[34m(self)\u001b[39m\n\u001b[32m   1211\u001b[39m             \u001b[38;5;28;01mraise\u001b[39;00m \u001b[38;5;167;01mEOFError\u001b[39;00m\n\u001b[32m   1212\u001b[39m         \u001b[38;5;28;01massert\u001b[39;00m \u001b[38;5;28misinstance\u001b[39m(key, bytes_types)\n\u001b[32m-> \u001b[39m\u001b[32m1213\u001b[39m         \u001b[43mdispatch\u001b[49m\u001b[43m[\u001b[49m\u001b[43mkey\u001b[49m\u001b[43m[\u001b[49m\u001b[32;43m0\u001b[39;49m\u001b[43m]\u001b[49m\u001b[43m]\u001b[49m\u001b[43m(\u001b[49m\u001b[38;5;28;43mself\u001b[39;49m\u001b[43m)\u001b[49m\n\u001b[32m   1214\u001b[39m \u001b[38;5;28;01mexcept\u001b[39;00m _Stop \u001b[38;5;28;01mas\u001b[39;00m stopinst:\n\u001b[32m   1215\u001b[39m     \u001b[38;5;28;01mreturn\u001b[39;00m stopinst.value\n",
      "\u001b[36mFile \u001b[39m\u001b[32md:\\backup\\AI course work\\Guvi\\projects\\Bank-Term Deposit Subscription Prediction\\venv\\Lib\\site-packages\\joblib\\numpy_pickle.py:446\u001b[39m, in \u001b[36mNumpyUnpickler.load_build\u001b[39m\u001b[34m(self)\u001b[39m\n\u001b[32m    438\u001b[39m \u001b[38;5;28;01mdef\u001b[39;00m\u001b[38;5;250m \u001b[39m\u001b[34mload_build\u001b[39m(\u001b[38;5;28mself\u001b[39m):\n\u001b[32m    439\u001b[39m \u001b[38;5;250m    \u001b[39m\u001b[33;03m\"\"\"Called to set the state of a newly created object.\u001b[39;00m\n\u001b[32m    440\u001b[39m \n\u001b[32m    441\u001b[39m \u001b[33;03m    We capture it to replace our place-holder objects, NDArrayWrapper or\u001b[39;00m\n\u001b[32m   (...)\u001b[39m\u001b[32m    444\u001b[39m \u001b[33;03m    NDArrayWrapper is used for backward compatibility with joblib <= 0.9.\u001b[39;00m\n\u001b[32m    445\u001b[39m \u001b[33;03m    \"\"\"\u001b[39;00m\n\u001b[32m--> \u001b[39m\u001b[32m446\u001b[39m     \u001b[43mUnpickler\u001b[49m\u001b[43m.\u001b[49m\u001b[43mload_build\u001b[49m\u001b[43m(\u001b[49m\u001b[38;5;28;43mself\u001b[39;49m\u001b[43m)\u001b[49m\n\u001b[32m    448\u001b[39m     \u001b[38;5;66;03m# For backward compatibility, we support NDArrayWrapper objects.\u001b[39;00m\n\u001b[32m    449\u001b[39m     \u001b[38;5;28;01mif\u001b[39;00m \u001b[38;5;28misinstance\u001b[39m(\u001b[38;5;28mself\u001b[39m.stack[-\u001b[32m1\u001b[39m], (NDArrayWrapper, NumpyArrayWrapper)):\n",
      "\u001b[36mFile \u001b[39m\u001b[32m~\\AppData\\Local\\Programs\\Python\\Python311\\Lib\\pickle.py:1718\u001b[39m, in \u001b[36m_Unpickler.load_build\u001b[39m\u001b[34m(self)\u001b[39m\n\u001b[32m   1716\u001b[39m setstate = \u001b[38;5;28mgetattr\u001b[39m(inst, \u001b[33m\"\u001b[39m\u001b[33m__setstate__\u001b[39m\u001b[33m\"\u001b[39m, \u001b[38;5;28;01mNone\u001b[39;00m)\n\u001b[32m   1717\u001b[39m \u001b[38;5;28;01mif\u001b[39;00m setstate \u001b[38;5;129;01mis\u001b[39;00m \u001b[38;5;129;01mnot\u001b[39;00m \u001b[38;5;28;01mNone\u001b[39;00m:\n\u001b[32m-> \u001b[39m\u001b[32m1718\u001b[39m     \u001b[43msetstate\u001b[49m\u001b[43m(\u001b[49m\u001b[43mstate\u001b[49m\u001b[43m)\u001b[49m\n\u001b[32m   1719\u001b[39m     \u001b[38;5;28;01mreturn\u001b[39;00m\n\u001b[32m   1720\u001b[39m slotstate = \u001b[38;5;28;01mNone\u001b[39;00m\n",
      "\u001b[36mFile \u001b[39m\u001b[32md:\\backup\\AI course work\\Guvi\\projects\\Bank-Term Deposit Subscription Prediction\\venv\\Lib\\site-packages\\sklearn\\tree\\_tree.pyx:844\u001b[39m, in \u001b[36msklearn.tree._tree.Tree.__setstate__\u001b[39m\u001b[34m()\u001b[39m\n",
      "\u001b[36mFile \u001b[39m\u001b[32md:\\backup\\AI course work\\Guvi\\projects\\Bank-Term Deposit Subscription Prediction\\venv\\Lib\\site-packages\\sklearn\\tree\\_tree.pyx:879\u001b[39m, in \u001b[36msklearn.tree._tree.Tree._resize_c\u001b[39m\u001b[34m()\u001b[39m\n",
      "\u001b[36mFile \u001b[39m\u001b[32md:\\backup\\AI course work\\Guvi\\projects\\Bank-Term Deposit Subscription Prediction\\venv\\Lib\\site-packages\\sklearn\\tree\\_utils.pyx:29\u001b[39m, in \u001b[36msklearn.tree._utils.safe_realloc\u001b[39m\u001b[34m()\u001b[39m\n",
      "\u001b[31mMemoryError\u001b[39m: could not allocate 8602176 bytes"
     ]
    }
   ],
   "source": [
    "\n",
    "import pandas as pd\n",
    "import joblib\n",
    "\n",
    "# Load test data\n",
    "test_df = pd.read_csv('clean_test.csv')  \n",
    "\n",
    "# Load trained pipeline\n",
    "model = joblib.load('models/best_model.pkl')\n",
    "\n",
    "# Predict\n",
    "predictions = model.predict(test_df)\n",
    "probabilities = model.predict_proba(test_df)[:, 1]\n",
    "\n",
    "# Create result dataframe\n",
    "results = test_df.copy()\n",
    "results['predicted_y'] = predictions\n",
    "results['probability_y'] = probabilities\n",
    "\n",
    "# Save to CSV\n",
    "results.to_csv('outputs/test_predictions.csv', index=False)\n",
    "print(\"✓ Predictions saved to 'outputs/test_predictions.csv'\")\n"
   ]
  },
  {
   "cell_type": "code",
   "execution_count": null,
   "id": "c770b85c",
   "metadata": {},
   "outputs": [],
   "source": []
  },
  {
   "cell_type": "code",
   "execution_count": null,
   "id": "4770a75e",
   "metadata": {},
   "outputs": [],
   "source": []
  },
  {
   "cell_type": "code",
   "execution_count": null,
   "id": "87a214de",
   "metadata": {},
   "outputs": [],
   "source": []
  },
  {
   "cell_type": "code",
   "execution_count": null,
   "id": "aca65629",
   "metadata": {},
   "outputs": [],
   "source": []
  },
  {
   "cell_type": "code",
   "execution_count": null,
   "id": "7a5a72c9",
   "metadata": {},
   "outputs": [],
   "source": []
  },
  {
   "cell_type": "code",
   "execution_count": null,
   "id": "2dd2fea6",
   "metadata": {},
   "outputs": [],
   "source": []
  },
  {
   "cell_type": "code",
   "execution_count": null,
   "id": "18b437dd",
   "metadata": {},
   "outputs": [],
   "source": []
  },
  {
   "cell_type": "code",
   "execution_count": null,
   "id": "ec9d0962",
   "metadata": {},
   "outputs": [],
   "source": []
  },
  {
   "cell_type": "code",
   "execution_count": null,
   "id": "0245aa20",
   "metadata": {},
   "outputs": [],
   "source": []
  },
  {
   "cell_type": "code",
   "execution_count": null,
   "id": "63e60fb0",
   "metadata": {},
   "outputs": [],
   "source": []
  },
  {
   "cell_type": "code",
   "execution_count": null,
   "id": "fad2c543",
   "metadata": {},
   "outputs": [],
   "source": []
  },
  {
   "cell_type": "code",
   "execution_count": null,
   "id": "bc9fe9fe",
   "metadata": {},
   "outputs": [],
   "source": []
  },
  {
   "cell_type": "code",
   "execution_count": null,
   "id": "91881b03",
   "metadata": {},
   "outputs": [],
   "source": []
  },
  {
   "cell_type": "code",
   "execution_count": null,
   "id": "94503654",
   "metadata": {},
   "outputs": [],
   "source": []
  }
 ],
 "metadata": {
  "kernelspec": {
   "display_name": "venv",
   "language": "python",
   "name": "python3"
  },
  "language_info": {
   "codemirror_mode": {
    "name": "ipython",
    "version": 3
   },
   "file_extension": ".py",
   "mimetype": "text/x-python",
   "name": "python",
   "nbconvert_exporter": "python",
   "pygments_lexer": "ipython3",
   "version": "3.11.5"
  }
 },
 "nbformat": 4,
 "nbformat_minor": 5
}
